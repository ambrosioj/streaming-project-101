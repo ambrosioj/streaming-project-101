{
 "cells": [
  {
   "cell_type": "code",
   "execution_count": 1,
   "metadata": {},
   "outputs": [],
   "source": [
    "from pyspark.sql import SparkSession\n",
    "import pyspark.sql.functions as f\n",
    "import requests"
   ]
  },
  {
   "cell_type": "code",
   "execution_count": 4,
   "metadata": {},
   "outputs": [
    {
     "name": "stderr",
     "output_type": "stream",
     "text": [
      "Setting default log level to \"WARN\".\n",
      "To adjust logging level use sc.setLogLevel(newLevel). For SparkR, use setLogLevel(newLevel).\n",
      "24/12/30 15:12:17 WARN NativeCodeLoader: Unable to load native-hadoop library for your platform... using builtin-java classes where applicable\n"
     ]
    }
   ],
   "source": [
    "spark = SparkSession.builder\\\n",
    "    .appName(\"DataRequestApp\")\\\n",
    "    .master(\"spark://spark-master:7077\")\\\n",
    "    .getOrCreate()"
   ]
  },
  {
   "cell_type": "code",
   "execution_count": 5,
   "metadata": {},
   "outputs": [],
   "source": [
    "import requests\n",
    "response = requests.get('https://api.themoviedb.org/3/discover/movie?api_key=256da2d742d5a5979790e6833447e4b4').json()"
   ]
  },
  {
   "cell_type": "code",
   "execution_count": 6,
   "metadata": {},
   "outputs": [],
   "source": [
    "df = spark.createDataFrame(response['results'])"
   ]
  },
  {
   "cell_type": "code",
   "execution_count": 7,
   "metadata": {},
   "outputs": [
    {
     "name": "stderr",
     "output_type": "stream",
     "text": [
      "                                                                                \r"
     ]
    },
    {
     "name": "stdout",
     "output_type": "stream",
     "text": [
      "+-----+--------------------+--------------------+-------+-----------------+--------------------+--------------------+----------+--------------------+------------+--------------------+-----+------------+----------+\n",
      "|adult|       backdrop_path|           genre_ids|     id|original_language|      original_title|            overview|popularity|         poster_path|release_date|               title|video|vote_average|vote_count|\n",
      "+-----+--------------------+--------------------+-------+-----------------+--------------------+--------------------+----------+--------------------+------------+--------------------+-----+------------+----------+\n",
      "|false|/euYIwmwkmz95mnXv...|        [28, 12, 18]| 558449|               en|        Gladiator II|Years after witne...|  7979.938|/2cxhvwyEwRlysAmR...|  2024-11-05|        Gladiator II|false|       6.781|      1622|\n",
      "|false|/6qld2YxAO9gdEblo...|         [10749, 18]|1156593|               es|          Culpa tuya|The love between ...|  5541.871|/1sQA7lfcF9yUyoLY...|  2024-12-26|          Your Fault|false|       7.737|       300|\n",
      "|false|/cjEcqdRdPQJhYre3...|        [28, 14, 35]| 845781|               en|             Red One|After Santa Claus...|  4938.342|/cdqLnri3NEGcmfnq...|  2024-10-31|             Red One|false|       7.051|      1573|\n",
      "|false|/zOpe0eHsq0A2NvNy...|[28, 878, 35, 10751]| 939243|               en|Sonic the Hedgehog 3|Sonic, Knuckles, ...|  4258.313|/d8Ryb8AunYAuycVK...|  2024-12-19|Sonic the Hedgehog 3|false|         7.8|       192|\n",
      "|false|/3V4kLQg0kSqPLctI...|   [28, 878, 12, 53]| 912649|               en|Venom: The Last D...|Eddie and Venom a...|  4026.483|/aosm8NMQ3UyoBVpS...|  2024-10-22|Venom: The Last D...|false|         6.8|      1956|\n",
      "|false|/tElnmtQ6yz1PjN1k...| [16, 12, 10751, 35]|1241982|               en|             Moana 2|After receiving a...|  3081.616|/m0SbwFNCa9epW1X6...|  2024-11-21|             Moana 2|false|       6.967|       646|\n",
      "|false|/oHPoF0Gzu8xwK4Ct...| [12, 10751, 18, 16]| 762509|               en|Mufasa: The Lion ...|Told in flashback...|  2773.199|/9bXHaLlsFYpJUutg...|  2024-12-18|Mufasa: The Lion ...|false|         7.3|       302|\n",
      "|false|/lntyt4OVDbcxA1l7...|         [10749, 18]|1010581|               es|           Culpa mía|Noah must leave h...|  2458.136|/w46Vw536HwNnEzOa...|  2023-06-08|            My Fault|false|       7.916|      3223|\n",
      "|false|/rhc8Mtuo3Kh8Cndn...|            [28, 53]|1005331|               en|            Carry-On|An airport securi...|  2090.732|/sjMN7DRi4sGileds...|  2024-12-05|            Carry-On|false|         7.0|      1180|\n",
      "|false|/dWkdmxIkH9y23s9v...|        [28, 18, 53]|1043905|               en|        Dirty Angels|During the United...|  2050.799|/3O3qSGmjRGc10hMw...|  2024-12-11|        Dirty Angels|false|         6.7|        58|\n",
      "|false|/6lE2e6j8qbtQR8aH...|        [28, 80, 53]| 974453|               en|          Absolution|An aging ex-boxer...|  1495.579|/2MeQG5Vq8rUnRAa4...|  2024-10-31|          Absolution|false|         6.1|       186|\n",
      "|false|/au3o84ub27qTZiMi...|       [28, 878, 53]|1035048|               en|           Elevation|A single father a...|  1685.003|/uQhYBxOVFU6s9agD...|  2024-11-07|           Elevation|false|         6.3|       208|\n",
      "|false|/sQbFupSWM9wUdPj9...|        [28, 12, 53]|1000075|               fr|Largo Winch: Le p...|Largo Winch, deva...|  1200.106|/myS41ZUmFvslkT8L...|  2024-07-31|The Price of Mone...|false|       5.777|        65|\n",
      "|false|/9mJ9dxCGpudxyBtl...|[16, 28, 878, 10751]|1184918|               en|      The Wild Robot|After a shipwreck...|  1072.553|/9w0Vh9eizfBXrcom...|  2024-09-08|      The Wild Robot|false|       8.378|      3687|\n",
      "|false|/t98L9uphqBSNn2Mk...|           [27, 878]| 933260|               en|       The Substance|A fading celebrit...|   939.826|/lqoMzCcZYEFK729d...|  2024-09-07|       The Substance|false|       7.181|      2835|\n",
      "|false|/v9Du2HC3hlknAvGl...|        [28, 12, 53]| 539972|               en|   Kraven the Hunter|Kraven Kravinoff'...|   843.085|/i47IUSsN126K11JU...|  2024-12-11|   Kraven the Hunter|false|         5.9|       227|\n",
      "|false|/by8z9Fe8y7p4jo2Y...|       [28, 35, 878]| 533535|               en|Deadpool & Wolverine|A listless Wade W...|   893.731|/8cdWjvZQUExUUTzy...|  2024-07-24|Deadpool & Wolverine|false|         7.7|      6091|\n",
      "|false|/xlkclSE4aq7r3JsF...|            [27, 53]|1034541|               en|         Terrifier 3|Five years after ...|   838.132|/ju10W5gl3PPK3b7T...|  2024-10-09|         Terrifier 3|false|         6.9|      1316|\n",
      "|false|/4cp40IyTpFfsT2IK...|     [10749, 35, 18]|1064213|               en|               Anora|A young sex worke...|   798.497|/7MrgIUeq0DD2iF7G...|  2024-10-14|               Anora|false|       6.996|       561|\n",
      "|false|/evFChfYeD2LqobEJ...|        [28, 80, 53]|1182387|               en|               Armor|Armored truck sec...|   853.975|/685wCHwr2kyQZxvT...|  2024-10-30|               Armor|false|         5.6|       101|\n",
      "+-----+--------------------+--------------------+-------+-----------------+--------------------+--------------------+----------+--------------------+------------+--------------------+-----+------------+----------+\n",
      "\n"
     ]
    }
   ],
   "source": [
    "df.show()"
   ]
  },
  {
   "cell_type": "code",
   "execution_count": 16,
   "metadata": {},
   "outputs": [],
   "source": [
    "df_movies = df.select('title', 'release_date', 'overview', 'vote_average')"
   ]
  },
  {
   "cell_type": "code",
   "execution_count": 18,
   "metadata": {},
   "outputs": [
    {
     "name": "stdout",
     "output_type": "stream",
     "text": [
      "+--------------------+------------+--------------------+------------+\n",
      "|               title|release_date|            overview|vote_average|\n",
      "+--------------------+------------+--------------------+------------+\n",
      "|        Gladiator II|  2024-11-05|Years after witne...|       6.781|\n",
      "|          Your Fault|  2024-12-26|The love between ...|       7.737|\n",
      "|             Red One|  2024-10-31|After Santa Claus...|       7.051|\n",
      "|Sonic the Hedgehog 3|  2024-12-19|Sonic, Knuckles, ...|         7.8|\n",
      "|Venom: The Last D...|  2024-10-22|Eddie and Venom a...|         6.8|\n",
      "|             Moana 2|  2024-11-21|After receiving a...|       6.967|\n",
      "|Mufasa: The Lion ...|  2024-12-18|Told in flashback...|         7.3|\n",
      "|            My Fault|  2023-06-08|Noah must leave h...|       7.916|\n",
      "|            Carry-On|  2024-12-05|An airport securi...|         7.0|\n",
      "|        Dirty Angels|  2024-12-11|During the United...|         6.7|\n",
      "|          Absolution|  2024-10-31|An aging ex-boxer...|         6.1|\n",
      "|           Elevation|  2024-11-07|A single father a...|         6.3|\n",
      "|The Price of Mone...|  2024-07-31|Largo Winch, deva...|       5.777|\n",
      "|      The Wild Robot|  2024-09-08|After a shipwreck...|       8.378|\n",
      "|       The Substance|  2024-09-07|A fading celebrit...|       7.181|\n",
      "|   Kraven the Hunter|  2024-12-11|Kraven Kravinoff'...|         5.9|\n",
      "|Deadpool & Wolverine|  2024-07-24|A listless Wade W...|         7.7|\n",
      "|         Terrifier 3|  2024-10-09|Five years after ...|         6.9|\n",
      "|               Anora|  2024-10-14|A young sex worke...|       6.996|\n",
      "|               Armor|  2024-10-30|Armored truck sec...|         5.6|\n",
      "+--------------------+------------+--------------------+------------+\n",
      "\n"
     ]
    }
   ],
   "source": [
    "df_movies.show()"
   ]
  },
  {
   "cell_type": "code",
   "execution_count": 21,
   "metadata": {},
   "outputs": [],
   "source": [
    "df_movies.write.mode(\"overwrite\").parquet(\"/home/jupyter/app/data/movies.parquet\")"
   ]
  },
  {
   "cell_type": "code",
   "execution_count": 22,
   "metadata": {},
   "outputs": [],
   "source": [
    "spark.stop()"
   ]
  }
 ],
 "metadata": {
  "kernelspec": {
   "display_name": "Python 3",
   "language": "python",
   "name": "python3"
  },
  "language_info": {
   "codemirror_mode": {
    "name": "ipython",
    "version": 3
   },
   "file_extension": ".py",
   "mimetype": "text/x-python",
   "name": "python",
   "nbconvert_exporter": "python",
   "pygments_lexer": "ipython3",
   "version": "3.11.9"
  }
 },
 "nbformat": 4,
 "nbformat_minor": 2
}
