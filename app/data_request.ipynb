{
 "cells": [
  {
   "cell_type": "code",
   "execution_count": 3,
   "metadata": {},
   "outputs": [],
   "source": [
    "from pyspark.sql import SparkSession\n",
    "import pyspark.sql.functions as F\n",
    "import requests"
   ]
  },
  {
   "cell_type": "code",
   "execution_count": 4,
   "metadata": {},
   "outputs": [
    {
     "name": "stderr",
     "output_type": "stream",
     "text": [
      "Setting default log level to \"WARN\".\n",
      "To adjust logging level use sc.setLogLevel(newLevel). For SparkR, use setLogLevel(newLevel).\n",
      "25/02/08 00:01:45 WARN NativeCodeLoader: Unable to load native-hadoop library for your platform... using builtin-java classes where applicable\n"
     ]
    }
   ],
   "source": [
    "spark = SparkSession.builder\\\n",
    "    .appName(\"DataRequestApp\")\\\n",
    "    .master(\"spark://spark-master:7077\")\\\n",
    "    .getOrCreate()"
   ]
  },
  {
   "cell_type": "code",
   "execution_count": 5,
   "metadata": {},
   "outputs": [],
   "source": [
    "import requests\n",
    "response = requests.get('https://api.themoviedb.org/3/discover/movie?api_key=256da2d742d5a5979790e6833447e4b4').json()"
   ]
  },
  {
   "cell_type": "markdown",
   "metadata": {},
   "source": [
    "# API Reference\n",
    "\n",
    "[TMDB](https://developer.themoviedb.org/reference/intro/getting-started)"
   ]
  },
  {
   "cell_type": "code",
   "execution_count": 6,
   "metadata": {},
   "outputs": [],
   "source": [
    "df = spark.createDataFrame(response['results'])"
   ]
  },
  {
   "cell_type": "code",
   "execution_count": 7,
   "metadata": {},
   "outputs": [
    {
     "name": "stderr",
     "output_type": "stream",
     "text": [
      "                                                                                \r"
     ]
    },
    {
     "name": "stdout",
     "output_type": "stream",
     "text": [
      "+-----+--------------------+--------------------+-------+-----------------+--------------------+--------------------+----------+--------------------+------------+--------------------+-----+------------+----------+\n",
      "|adult|       backdrop_path|           genre_ids|     id|original_language|      original_title|            overview|popularity|         poster_path|release_date|               title|video|vote_average|vote_count|\n",
      "+-----+--------------------+--------------------+-------+-----------------+--------------------+--------------------+----------+--------------------+------------+--------------------+-----+------------+----------+\n",
      "|false|/zOpe0eHsq0A2NvNy...|[28, 878, 35, 10751]| 939243|               en|Sonic the Hedgehog 3|Sonic, Knuckles, ...|  3084.368|/d8Ryb8AunYAuycVK...|  2024-12-19|Sonic the Hedgehog 3|false|       7.787|      1566|\n",
      "|false|/v9Du2HC3hlknAvGl...|        [28, 12, 53]| 539972|               en|   Kraven the Hunter|Kraven Kravinoff'...|   1785.56|/nrlfJoxP1EkBVE9p...|  2024-12-11|   Kraven the Hunter|false|       6.605|      1079|\n",
      "|false|/zo8CIjJ2nfNOevqN...| [16, 12, 10751, 35]|1241982|               en|             Moana 2|After receiving a...|  1427.587|/aLVkiINlIeCkcZIz...|  2024-11-21|             Moana 2|false|       7.211|      1318|\n",
      "|false|/xZm5YUNY3PlYD1Q4...|            [28, 35]| 993710|               en|      Back in Action|Fifteen years aft...|  1312.816|/3L3l6LsiLGHkTG4R...|  2025-01-15|      Back in Action|false|       6.641|       804|\n",
      "|false|/qSOMdbZ6AOdHR999...|        [28, 80, 53]|1249289|               en|              Alarum|Two married spies...|  1149.463|/v313aUGmMNj6yNve...|  2025-01-16|              Alarum|false|         5.9|       127|\n",
      "|false|/ybSA7fUbYHw8VeRi...|            [28, 53]|1410082|               en|Sniper: The Last ...|To stop an arms d...|  1030.228|/TVvIyCsFCmLk9MRL...|  2025-01-21|Sniper: The Last ...|false|         6.4|        66|\n",
      "|false|/ueDw7djPgKPZfph0...|            [12, 28]|     85|               en|Raiders of the Lo...|When Dr. Indiana ...|   980.647|/ceG9VzoRAVGwivFU...|  1981-06-12|Raiders of the Lo...|false|       7.927|     12608|\n",
      "|false|/hctfNoMpQGfn3VXd...|                [18]|1097549|               en|            Babygirl|A high-powered CE...|   870.978|/A8HbTd0FemZyFCh5...|  2024-12-25|            Babygirl|false|       5.751|       374|\n",
      "|false|/vZG7PrX9HmdgL5qf...|       [28, 878, 12]| 912649|               en|Venom: The Last D...|Eddie and Venom a...|   841.993|/aosm8NMQ3UyoBVpS...|  2024-10-22|Venom: The Last D...|false|       6.778|      2694|\n",
      "|false|/euYIwmwkmz95mnXv...|        [28, 12, 18]| 558449|               en|        Gladiator II|Years after witne...|   805.586|/2cxhvwyEwRlysAmR...|  2024-11-05|        Gladiator II|false|         6.8|      2695|\n",
      "|false|/lWMa1FdgC7zP9ATV...|     [12, 10751, 16]| 762509|               en|Mufasa: The Lion ...|Mufasa, a cub los...|   774.207|/jbOSUAWMGzGL1L4E...|  2024-12-18|Mufasa: The Lion ...|false|       7.423|       961|\n",
      "|false|/h7r6LZ32dgLwtwSW...|            [27, 14]| 426063|               en|           Nosferatu|A gothic tale of ...|   763.015|/5qGIxdEO841C0tdY...|  2024-12-25|           Nosferatu|false|       6.657|      1916|\n",
      "|false|/hAQnXxOwCjgYcKRg...|            [28, 18]| 811941|               te|        దేవర: Part 1|Devara, a fearles...|   755.154|/A9ENz6d4lC3UYOX8...|  2024-09-26|      Devara: Part 1|false|       7.185|       108|\n",
      "|false|/3SOunz2Z0qcOVlrk...|[878, 12, 28, 18,...|1114894|               en|Star Trek: Sectio...|Emperor Philippa ...|   716.514|/sqiCinCzUGlzQiFy...|  2025-01-15|Star Trek: Sectio...|false|         4.6|       123|\n",
      "|false|/cA88pwGnHa64BBcU...|        [28, 27, 53]| 970450|               en|          Werewolves|A year after a su...|   651.035|/cRTctVlwvMdXVsaY...|  2024-12-04|          Werewolves|false|         6.2|       270|\n",
      "|false|/8dqZsevb5E8x29OF...|           [27, 878]| 933260|               en|       The Substance|A fading celebrit...|   622.528|/lqoMzCcZYEFK729d...|  2024-09-07|       The Substance|false|         7.1|      3679|\n",
      "|false|/aLhtnH4pKHnD02Zf...|            [16, 99]| 426889|               fr|         Le clitoris|Women are lucky, ...|   618.151|/p5i1yyQW6OpLfB59...|  2016-06-18|         Le clitoris|false|         6.8|        26|\n",
      "|false|/u7AZ5CdT2af8buRj...|            [28, 35]|1160956|               zh|            熊猫计划|International act...|     613.4|/xVS9XiO9upp2SnWx...|  2024-10-01|          Panda Plan|false|         5.7|        25|\n",
      "|false|/pqulyfkug9A7TmmR...|            [28, 35]|1255788|               fr|        Le Jardinier|Every year the Pr...|   606.794|/5T9WR7vIOnHm6xhV...|  2025-01-30|        The Gardener|false|       6.192|        52|\n",
      "|false|/bVUB4WI2vTq46OHu...|                [18]|1300607|               es|Los dos hemisferi...|Determined to hel...|   556.416|/fX3Q5hxUAUs1k8JQ...|  2025-01-30|       Lucca's World|false|       7.431|        36|\n",
      "+-----+--------------------+--------------------+-------+-----------------+--------------------+--------------------+----------+--------------------+------------+--------------------+-----+------------+----------+\n",
      "\n"
     ]
    }
   ],
   "source": [
    "df.show()"
   ]
  },
  {
   "cell_type": "code",
   "execution_count": 8,
   "metadata": {},
   "outputs": [],
   "source": [
    "df_movies = df.select('title', 'release_date', 'overview', 'vote_average')"
   ]
  },
  {
   "cell_type": "code",
   "execution_count": 9,
   "metadata": {},
   "outputs": [
    {
     "name": "stdout",
     "output_type": "stream",
     "text": [
      "+--------------------+------------+--------------------+------------+\n",
      "|               title|release_date|            overview|vote_average|\n",
      "+--------------------+------------+--------------------+------------+\n",
      "|Sonic the Hedgehog 3|  2024-12-19|Sonic, Knuckles, ...|       7.787|\n",
      "|   Kraven the Hunter|  2024-12-11|Kraven Kravinoff'...|       6.605|\n",
      "|             Moana 2|  2024-11-21|After receiving a...|       7.211|\n",
      "|      Back in Action|  2025-01-15|Fifteen years aft...|       6.641|\n",
      "|              Alarum|  2025-01-16|Two married spies...|         5.9|\n",
      "|Sniper: The Last ...|  2025-01-21|To stop an arms d...|         6.4|\n",
      "|Raiders of the Lo...|  1981-06-12|When Dr. Indiana ...|       7.927|\n",
      "|            Babygirl|  2024-12-25|A high-powered CE...|       5.751|\n",
      "|Venom: The Last D...|  2024-10-22|Eddie and Venom a...|       6.778|\n",
      "|        Gladiator II|  2024-11-05|Years after witne...|         6.8|\n",
      "|Mufasa: The Lion ...|  2024-12-18|Mufasa, a cub los...|       7.423|\n",
      "|           Nosferatu|  2024-12-25|A gothic tale of ...|       6.657|\n",
      "|      Devara: Part 1|  2024-09-26|Devara, a fearles...|       7.185|\n",
      "|Star Trek: Sectio...|  2025-01-15|Emperor Philippa ...|         4.6|\n",
      "|          Werewolves|  2024-12-04|A year after a su...|         6.2|\n",
      "|       The Substance|  2024-09-07|A fading celebrit...|         7.1|\n",
      "|         Le clitoris|  2016-06-18|Women are lucky, ...|         6.8|\n",
      "|          Panda Plan|  2024-10-01|International act...|         5.7|\n",
      "|        The Gardener|  2025-01-30|Every year the Pr...|       6.192|\n",
      "|       Lucca's World|  2025-01-30|Determined to hel...|       7.431|\n",
      "+--------------------+------------+--------------------+------------+\n",
      "\n"
     ]
    }
   ],
   "source": [
    "df_movies.show()"
   ]
  },
  {
   "cell_type": "code",
   "execution_count": 10,
   "metadata": {},
   "outputs": [],
   "source": [
    "df_movies.write.mode(\"overwrite\").parquet(\"/home/jupyter/app/data/movies.parquet\")"
   ]
  },
  {
   "cell_type": "code",
   "execution_count": 11,
   "metadata": {},
   "outputs": [],
   "source": [
    "spark.stop()"
   ]
  }
 ],
 "metadata": {
  "kernelspec": {
   "display_name": "Python 3",
   "language": "python",
   "name": "python3"
  },
  "language_info": {
   "codemirror_mode": {
    "name": "ipython",
    "version": 3
   },
   "file_extension": ".py",
   "mimetype": "text/x-python",
   "name": "python",
   "nbconvert_exporter": "python",
   "pygments_lexer": "ipython3",
   "version": "3.11.9"
  }
 },
 "nbformat": 4,
 "nbformat_minor": 2
}
