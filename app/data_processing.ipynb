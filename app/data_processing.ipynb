{
 "cells": [
  {
   "cell_type": "code",
   "execution_count": 9,
   "metadata": {},
   "outputs": [],
   "source": [
    "from pyspark.sql import SparkSession\n",
    "import pyspark.sql.functions as F"
   ]
  },
  {
   "cell_type": "code",
   "execution_count": 2,
   "metadata": {},
   "outputs": [
    {
     "name": "stderr",
     "output_type": "stream",
     "text": [
      "Setting default log level to \"WARN\".\n",
      "To adjust logging level use sc.setLogLevel(newLevel). For SparkR, use setLogLevel(newLevel).\n",
      "25/02/08 00:03:51 WARN NativeCodeLoader: Unable to load native-hadoop library for your platform... using builtin-java classes where applicable\n"
     ]
    }
   ],
   "source": [
    "spark = SparkSession.builder\\\n",
    "    .appName(\"DataProcessingApp\")\\\n",
    "    .master(\"spark://spark-master:7077\")\\\n",
    "    .getOrCreate()\n",
    "            "
   ]
  },
  {
   "cell_type": "code",
   "execution_count": 3,
   "metadata": {},
   "outputs": [
    {
     "name": "stderr",
     "output_type": "stream",
     "text": [
      "                                                                                \r"
     ]
    }
   ],
   "source": [
    "df_movies = spark.read.parquet(\"/home/jupyter/app/data/movies.parquet\")"
   ]
  },
  {
   "cell_type": "code",
   "execution_count": 4,
   "metadata": {},
   "outputs": [
    {
     "name": "stdout",
     "output_type": "stream",
     "text": [
      "+--------------------+------------+--------------------+------------+\n",
      "|               title|release_date|            overview|vote_average|\n",
      "+--------------------+------------+--------------------+------------+\n",
      "|Sonic the Hedgehog 3|  2024-12-19|Sonic, Knuckles, ...|       7.787|\n",
      "|   Kraven the Hunter|  2024-12-11|Kraven Kravinoff'...|       6.605|\n",
      "|             Moana 2|  2024-11-21|After receiving a...|       7.211|\n",
      "|      Back in Action|  2025-01-15|Fifteen years aft...|       6.641|\n",
      "|              Alarum|  2025-01-16|Two married spies...|         5.9|\n",
      "|Sniper: The Last ...|  2025-01-21|To stop an arms d...|         6.4|\n",
      "|Raiders of the Lo...|  1981-06-12|When Dr. Indiana ...|       7.927|\n",
      "|            Babygirl|  2024-12-25|A high-powered CE...|       5.751|\n",
      "|Venom: The Last D...|  2024-10-22|Eddie and Venom a...|       6.778|\n",
      "|        Gladiator II|  2024-11-05|Years after witne...|         6.8|\n",
      "|Mufasa: The Lion ...|  2024-12-18|Mufasa, a cub los...|       7.423|\n",
      "|           Nosferatu|  2024-12-25|A gothic tale of ...|       6.657|\n",
      "|      Devara: Part 1|  2024-09-26|Devara, a fearles...|       7.185|\n",
      "|Star Trek: Sectio...|  2025-01-15|Emperor Philippa ...|         4.6|\n",
      "|          Werewolves|  2024-12-04|A year after a su...|         6.2|\n",
      "|       The Substance|  2024-09-07|A fading celebrit...|         7.1|\n",
      "|         Le clitoris|  2016-06-18|Women are lucky, ...|         6.8|\n",
      "|          Panda Plan|  2024-10-01|International act...|         5.7|\n",
      "|        The Gardener|  2025-01-30|Every year the Pr...|       6.192|\n",
      "|       Lucca's World|  2025-01-30|Determined to hel...|       7.431|\n",
      "+--------------------+------------+--------------------+------------+\n",
      "\n"
     ]
    }
   ],
   "source": [
    "df_movies.show()"
   ]
  },
  {
   "cell_type": "code",
   "execution_count": 6,
   "metadata": {},
   "outputs": [
    {
     "data": {
      "text/plain": [
       "20"
      ]
     },
     "execution_count": 6,
     "metadata": {},
     "output_type": "execute_result"
    }
   ],
   "source": [
    "df_movies.count()"
   ]
  },
  {
   "cell_type": "code",
   "execution_count": 7,
   "metadata": {},
   "outputs": [
    {
     "data": {
      "text/plain": [
       "DataFrame[title: string, release_date: string, overview: string, vote_average: double]"
      ]
     },
     "execution_count": 7,
     "metadata": {},
     "output_type": "execute_result"
    }
   ],
   "source": [
    "df_movies"
   ]
  },
  {
   "cell_type": "code",
   "execution_count": null,
   "metadata": {},
   "outputs": [],
   "source": [
    "spark.stop()\n"
   ]
  }
 ],
 "metadata": {
  "kernelspec": {
   "display_name": "Python 3",
   "language": "python",
   "name": "python3"
  },
  "language_info": {
   "codemirror_mode": {
    "name": "ipython",
    "version": 3
   },
   "file_extension": ".py",
   "mimetype": "text/x-python",
   "name": "python",
   "nbconvert_exporter": "python",
   "pygments_lexer": "ipython3",
   "version": "3.11.9"
  }
 },
 "nbformat": 4,
 "nbformat_minor": 2
}
