{
 "cells": [
  {
   "cell_type": "code",
   "execution_count": 2,
   "metadata": {},
   "outputs": [],
   "source": [
    "from pyspark.sql import SparkSession\n",
    "import pyspark.sql.functions as f"
   ]
  },
  {
   "cell_type": "code",
   "execution_count": 3,
   "metadata": {},
   "outputs": [
    {
     "name": "stderr",
     "output_type": "stream",
     "text": [
      "Setting default log level to \"WARN\".\n",
      "To adjust logging level use sc.setLogLevel(newLevel). For SparkR, use setLogLevel(newLevel).\n",
      "24/12/30 15:22:20 WARN NativeCodeLoader: Unable to load native-hadoop library for your platform... using builtin-java classes where applicable\n"
     ]
    }
   ],
   "source": [
    "spark = SparkSession.builder\\\n",
    "    .appName(\"DataProcessingApp\")\\\n",
    "    .master(\"spark://spark-master:7077\")\\\n",
    "    .getOrCreate()\n",
    "            "
   ]
  },
  {
   "cell_type": "code",
   "execution_count": 4,
   "metadata": {},
   "outputs": [
    {
     "name": "stderr",
     "output_type": "stream",
     "text": [
      "                                                                                \r"
     ]
    }
   ],
   "source": [
    "df_movies = spark.read.parquet(\"/home/jupyter/app/data/movies.parquet\")"
   ]
  },
  {
   "cell_type": "code",
   "execution_count": 6,
   "metadata": {},
   "outputs": [
    {
     "name": "stdout",
     "output_type": "stream",
     "text": [
      "+--------------------+------------+--------------------+------------+\n",
      "|               title|release_date|            overview|vote_average|\n",
      "+--------------------+------------+--------------------+------------+\n",
      "|        Gladiator II|  2024-11-05|Years after witne...|       6.781|\n",
      "|          Your Fault|  2024-12-26|The love between ...|       7.737|\n",
      "|             Red One|  2024-10-31|After Santa Claus...|       7.051|\n",
      "|Sonic the Hedgehog 3|  2024-12-19|Sonic, Knuckles, ...|         7.8|\n",
      "|Venom: The Last D...|  2024-10-22|Eddie and Venom a...|         6.8|\n",
      "|             Moana 2|  2024-11-21|After receiving a...|       6.967|\n",
      "|Mufasa: The Lion ...|  2024-12-18|Told in flashback...|         7.3|\n",
      "|            My Fault|  2023-06-08|Noah must leave h...|       7.916|\n",
      "|            Carry-On|  2024-12-05|An airport securi...|         7.0|\n",
      "|        Dirty Angels|  2024-12-11|During the United...|         6.7|\n",
      "|          Absolution|  2024-10-31|An aging ex-boxer...|         6.1|\n",
      "|           Elevation|  2024-11-07|A single father a...|         6.3|\n",
      "|The Price of Mone...|  2024-07-31|Largo Winch, deva...|       5.777|\n",
      "|      The Wild Robot|  2024-09-08|After a shipwreck...|       8.378|\n",
      "|       The Substance|  2024-09-07|A fading celebrit...|       7.181|\n",
      "|   Kraven the Hunter|  2024-12-11|Kraven Kravinoff'...|         5.9|\n",
      "|Deadpool & Wolverine|  2024-07-24|A listless Wade W...|         7.7|\n",
      "|         Terrifier 3|  2024-10-09|Five years after ...|         6.9|\n",
      "|               Anora|  2024-10-14|A young sex worke...|       6.996|\n",
      "|               Armor|  2024-10-30|Armored truck sec...|         5.6|\n",
      "+--------------------+------------+--------------------+------------+\n",
      "\n"
     ]
    }
   ],
   "source": [
    "df_movies.show()"
   ]
  },
  {
   "cell_type": "code",
   "execution_count": null,
   "metadata": {},
   "outputs": [],
   "source": [
    "pandas_movies = df_movies.toPandas()"
   ]
  },
  {
   "cell_type": "code",
   "execution_count": 7,
   "metadata": {},
   "outputs": [],
   "source": [
    "spark.stop()\n"
   ]
  }
 ],
 "metadata": {
  "kernelspec": {
   "display_name": "Python 3",
   "language": "python",
   "name": "python3"
  },
  "language_info": {
   "codemirror_mode": {
    "name": "ipython",
    "version": 3
   },
   "file_extension": ".py",
   "mimetype": "text/x-python",
   "name": "python",
   "nbconvert_exporter": "python",
   "pygments_lexer": "ipython3",
   "version": "3.11.9"
  }
 },
 "nbformat": 4,
 "nbformat_minor": 2
}
